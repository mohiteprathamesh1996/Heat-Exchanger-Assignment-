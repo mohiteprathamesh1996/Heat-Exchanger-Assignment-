{
 "cells": [
  {
   "cell_type": "markdown",
   "metadata": {},
   "source": [
    "#### Loading packages"
   ]
  },
  {
   "cell_type": "code",
   "execution_count": 1,
   "metadata": {},
   "outputs": [],
   "source": [
    "import pandas as pd\n",
    "import numpy as np\n",
    "import itertools\n",
    "from pulp import *\n",
    "\n",
    "import warnings\n",
    "warnings.filterwarnings(\"ignore\")"
   ]
  },
  {
   "cell_type": "markdown",
   "metadata": {},
   "source": [
    "#### Load data"
   ]
  },
  {
   "cell_type": "code",
   "execution_count": 2,
   "metadata": {
    "scrolled": false
   },
   "outputs": [
    {
     "data": {
      "text/html": [
       "<div>\n",
       "<style scoped>\n",
       "    .dataframe tbody tr th:only-of-type {\n",
       "        vertical-align: middle;\n",
       "    }\n",
       "\n",
       "    .dataframe tbody tr th {\n",
       "        vertical-align: top;\n",
       "    }\n",
       "\n",
       "    .dataframe thead th {\n",
       "        text-align: right;\n",
       "    }\n",
       "</style>\n",
       "<table border=\"1\" class=\"dataframe\">\n",
       "  <thead>\n",
       "    <tr style=\"text-align: right;\">\n",
       "      <th></th>\n",
       "      <th>Exchanger_1</th>\n",
       "      <th>Exchanger_2</th>\n",
       "      <th>Exchanger_3</th>\n",
       "      <th>Exchanger_4</th>\n",
       "      <th>Exchanger_5</th>\n",
       "      <th>Exchanger_6</th>\n",
       "      <th>Exchanger_7</th>\n",
       "      <th>Exchanger_8</th>\n",
       "      <th>Exchanger_9</th>\n",
       "      <th>Exchanger_10</th>\n",
       "    </tr>\n",
       "    <tr>\n",
       "      <th>Streams</th>\n",
       "      <th></th>\n",
       "      <th></th>\n",
       "      <th></th>\n",
       "      <th></th>\n",
       "      <th></th>\n",
       "      <th></th>\n",
       "      <th></th>\n",
       "      <th></th>\n",
       "      <th></th>\n",
       "      <th></th>\n",
       "    </tr>\n",
       "  </thead>\n",
       "  <tbody>\n",
       "    <tr>\n",
       "      <th>Stream_1</th>\n",
       "      <td>949</td>\n",
       "      <td>1176</td>\n",
       "      <td>1073</td>\n",
       "      <td>1042</td>\n",
       "      <td>1137</td>\n",
       "      <td>999</td>\n",
       "      <td>993</td>\n",
       "      <td>944</td>\n",
       "      <td>1052</td>\n",
       "      <td>855</td>\n",
       "    </tr>\n",
       "    <tr>\n",
       "      <th>Stream_2</th>\n",
       "      <td>1127</td>\n",
       "      <td>1108</td>\n",
       "      <td>1163</td>\n",
       "      <td>1032</td>\n",
       "      <td>1181</td>\n",
       "      <td>1168</td>\n",
       "      <td>989</td>\n",
       "      <td>1180</td>\n",
       "      <td>841</td>\n",
       "      <td>889</td>\n",
       "    </tr>\n",
       "    <tr>\n",
       "      <th>Stream_3</th>\n",
       "      <td>1088</td>\n",
       "      <td>936</td>\n",
       "      <td>966</td>\n",
       "      <td>943</td>\n",
       "      <td>1034</td>\n",
       "      <td>1118</td>\n",
       "      <td>1091</td>\n",
       "      <td>1156</td>\n",
       "      <td>829</td>\n",
       "      <td>1110</td>\n",
       "    </tr>\n",
       "    <tr>\n",
       "      <th>Stream_4</th>\n",
       "      <td>920</td>\n",
       "      <td>917</td>\n",
       "      <td>1139</td>\n",
       "      <td>817</td>\n",
       "      <td>1154</td>\n",
       "      <td>1141</td>\n",
       "      <td>1150</td>\n",
       "      <td>821</td>\n",
       "      <td>826</td>\n",
       "      <td>969</td>\n",
       "    </tr>\n",
       "    <tr>\n",
       "      <th>Stream_5</th>\n",
       "      <td>907</td>\n",
       "      <td>832</td>\n",
       "      <td>905</td>\n",
       "      <td>834</td>\n",
       "      <td>1055</td>\n",
       "      <td>1135</td>\n",
       "      <td>986</td>\n",
       "      <td>852</td>\n",
       "      <td>857</td>\n",
       "      <td>813</td>\n",
       "    </tr>\n",
       "    <tr>\n",
       "      <th>Stream_6</th>\n",
       "      <td>1121</td>\n",
       "      <td>877</td>\n",
       "      <td>1026</td>\n",
       "      <td>878</td>\n",
       "      <td>861</td>\n",
       "      <td>1026</td>\n",
       "      <td>827</td>\n",
       "      <td>1053</td>\n",
       "      <td>1162</td>\n",
       "      <td>957</td>\n",
       "    </tr>\n",
       "    <tr>\n",
       "      <th>Stream_7</th>\n",
       "      <td>989</td>\n",
       "      <td>1102</td>\n",
       "      <td>1157</td>\n",
       "      <td>1175</td>\n",
       "      <td>963</td>\n",
       "      <td>957</td>\n",
       "      <td>941</td>\n",
       "      <td>1087</td>\n",
       "      <td>1041</td>\n",
       "      <td>1182</td>\n",
       "    </tr>\n",
       "    <tr>\n",
       "      <th>Stream_8</th>\n",
       "      <td>1060</td>\n",
       "      <td>1126</td>\n",
       "      <td>845</td>\n",
       "      <td>854</td>\n",
       "      <td>962</td>\n",
       "      <td>818</td>\n",
       "      <td>851</td>\n",
       "      <td>882</td>\n",
       "      <td>895</td>\n",
       "      <td>1172</td>\n",
       "    </tr>\n",
       "    <tr>\n",
       "      <th>Stream_9</th>\n",
       "      <td>1147</td>\n",
       "      <td>1168</td>\n",
       "      <td>1186</td>\n",
       "      <td>1183</td>\n",
       "      <td>983</td>\n",
       "      <td>1100</td>\n",
       "      <td>1101</td>\n",
       "      <td>905</td>\n",
       "      <td>1092</td>\n",
       "      <td>1051</td>\n",
       "    </tr>\n",
       "    <tr>\n",
       "      <th>Stream_10</th>\n",
       "      <td>1035</td>\n",
       "      <td>900</td>\n",
       "      <td>1172</td>\n",
       "      <td>856</td>\n",
       "      <td>1055</td>\n",
       "      <td>1121</td>\n",
       "      <td>1118</td>\n",
       "      <td>1195</td>\n",
       "      <td>807</td>\n",
       "      <td>1175</td>\n",
       "    </tr>\n",
       "  </tbody>\n",
       "</table>\n",
       "</div>"
      ],
      "text/plain": [
       "           Exchanger_1  Exchanger_2  Exchanger_3  Exchanger_4  Exchanger_5  \\\n",
       "Streams                                                                      \n",
       "Stream_1           949         1176         1073         1042         1137   \n",
       "Stream_2          1127         1108         1163         1032         1181   \n",
       "Stream_3          1088          936          966          943         1034   \n",
       "Stream_4           920          917         1139          817         1154   \n",
       "Stream_5           907          832          905          834         1055   \n",
       "Stream_6          1121          877         1026          878          861   \n",
       "Stream_7           989         1102         1157         1175          963   \n",
       "Stream_8          1060         1126          845          854          962   \n",
       "Stream_9          1147         1168         1186         1183          983   \n",
       "Stream_10         1035          900         1172          856         1055   \n",
       "\n",
       "           Exchanger_6  Exchanger_7  Exchanger_8  Exchanger_9  Exchanger_10  \n",
       "Streams                                                                      \n",
       "Stream_1           999          993          944         1052           855  \n",
       "Stream_2          1168          989         1180          841           889  \n",
       "Stream_3          1118         1091         1156          829          1110  \n",
       "Stream_4          1141         1150          821          826           969  \n",
       "Stream_5          1135          986          852          857           813  \n",
       "Stream_6          1026          827         1053         1162           957  \n",
       "Stream_7           957          941         1087         1041          1182  \n",
       "Stream_8           818          851          882          895          1172  \n",
       "Stream_9          1100         1101          905         1092          1051  \n",
       "Stream_10         1121         1118         1195          807          1175  "
      ]
     },
     "execution_count": 2,
     "metadata": {},
     "output_type": "execute_result"
    }
   ],
   "source": [
    "df = pd.read_excel(\"Heat Exchanger Assignment Optimization.xlsx\", sheet_name=\"Installation Costs\")\n",
    "\n",
    "df.set_index(\"Streams\", inplace=True)\n",
    "\n",
    "df"
   ]
  },
  {
   "cell_type": "markdown",
   "metadata": {},
   "source": [
    "#### Create dictionary of decision variables"
   ]
  },
  {
   "cell_type": "code",
   "execution_count": 3,
   "metadata": {},
   "outputs": [],
   "source": [
    "streams = df.index.to_list()\n",
    "\n",
    "exchanger_stations = df.columns.to_list()\n",
    "\n",
    "var_dict = LpVariable.dicts(name=\"assign\",\n",
    "                            indexs=[(i, j) for i in streams for j in exchanger_stations], \n",
    "                            lowBound=0,\n",
    "                            cat=\"Binary\")"
   ]
  },
  {
   "cell_type": "markdown",
   "metadata": {},
   "source": [
    "#### Define objective function"
   ]
  },
  {
   "cell_type": "code",
   "execution_count": 11,
   "metadata": {},
   "outputs": [],
   "source": [
    "model = LpProblem(\"Assigning Streams to Heat Exchangers Ensuring Minimum Installation Costs\", LpMinimize)\n",
    "\n",
    "model += lpSum([df.loc[(i,j)]*var_dict[(i,j)] for i in streams for j in exchanger_stations])"
   ]
  },
  {
   "cell_type": "markdown",
   "metadata": {},
   "source": [
    "#### Define constraints"
   ]
  },
  {
   "cell_type": "code",
   "execution_count": 12,
   "metadata": {},
   "outputs": [],
   "source": [
    "# Each stream must be assigned to exactly 1 heat exchanger\n",
    "for i in streams:\n",
    "    model += lpSum([var_dict[(i, j)] for j in exchanger_stations]) == 1\n",
    "\n",
    "# Every heat exchanger must receive input from exactly 1 stream    \n",
    "for j in exchanger_stations:\n",
    "    model += lpSum([var_dict[(i, j)] for i in streams]) == 1"
   ]
  },
  {
   "cell_type": "markdown",
   "metadata": {},
   "source": [
    "#### Obtain optimal solution"
   ]
  },
  {
   "cell_type": "code",
   "execution_count": 13,
   "metadata": {},
   "outputs": [],
   "source": [
    "model.solve()\n",
    "\n",
    "if LpStatus[model.status]==\"Optimal\":\n",
    "    optimal_soln = pd.DataFrame([(v.name, v.varValue) for v in model.variables() if v.varValue==1],\n",
    "                                columns=[\"Assignment\", \"Status\"])"
   ]
  },
  {
   "cell_type": "markdown",
   "metadata": {},
   "source": [
    "#### Save results"
   ]
  },
  {
   "cell_type": "code",
   "execution_count": 7,
   "metadata": {},
   "outputs": [],
   "source": [
    "writer = pd.ExcelWriter(\"Heat Exchanger Assignment Optimization.xlsx\", engine='openpyxl')\n",
    "\n",
    "df.reset_index().to_excel(writer, \"Installation Costs\", index=False)\n",
    "optimal_soln.to_excel(writer, \"Optimal Solution\", index=False)\n",
    "\n",
    "writer.save()"
   ]
  },
  {
   "cell_type": "code",
   "execution_count": null,
   "metadata": {},
   "outputs": [],
   "source": []
  },
  {
   "cell_type": "code",
   "execution_count": 14,
   "metadata": {},
   "outputs": [
    {
     "data": {
      "text/html": [
       "<div>\n",
       "<style scoped>\n",
       "    .dataframe tbody tr th:only-of-type {\n",
       "        vertical-align: middle;\n",
       "    }\n",
       "\n",
       "    .dataframe tbody tr th {\n",
       "        vertical-align: top;\n",
       "    }\n",
       "\n",
       "    .dataframe thead th {\n",
       "        text-align: right;\n",
       "    }\n",
       "</style>\n",
       "<table border=\"1\" class=\"dataframe\">\n",
       "  <thead>\n",
       "    <tr style=\"text-align: right;\">\n",
       "      <th></th>\n",
       "      <th>Assignment</th>\n",
       "      <th>Status</th>\n",
       "    </tr>\n",
       "  </thead>\n",
       "  <tbody>\n",
       "    <tr>\n",
       "      <th>0</th>\n",
       "      <td>assign_('Stream_1',_'Exchanger_1')</td>\n",
       "      <td>1.0</td>\n",
       "    </tr>\n",
       "    <tr>\n",
       "      <th>1</th>\n",
       "      <td>assign_('Stream_2',_'Exchanger_7')</td>\n",
       "      <td>1.0</td>\n",
       "    </tr>\n",
       "    <tr>\n",
       "      <th>2</th>\n",
       "      <td>assign_('Stream_3',_'Exchanger_3')</td>\n",
       "      <td>1.0</td>\n",
       "    </tr>\n",
       "    <tr>\n",
       "      <th>3</th>\n",
       "      <td>assign_('Stream_4',_'Exchanger_4')</td>\n",
       "      <td>1.0</td>\n",
       "    </tr>\n",
       "    <tr>\n",
       "      <th>4</th>\n",
       "      <td>assign_('Stream_5',_'Exchanger_2')</td>\n",
       "      <td>1.0</td>\n",
       "    </tr>\n",
       "    <tr>\n",
       "      <th>5</th>\n",
       "      <td>assign_('Stream_6',_'Exchanger_5')</td>\n",
       "      <td>1.0</td>\n",
       "    </tr>\n",
       "    <tr>\n",
       "      <th>6</th>\n",
       "      <td>assign_('Stream_7',_'Exchanger_6')</td>\n",
       "      <td>1.0</td>\n",
       "    </tr>\n",
       "  </tbody>\n",
       "</table>\n",
       "</div>"
      ],
      "text/plain": [
       "                           Assignment  Status\n",
       "0  assign_('Stream_1',_'Exchanger_1')     1.0\n",
       "1  assign_('Stream_2',_'Exchanger_7')     1.0\n",
       "2  assign_('Stream_3',_'Exchanger_3')     1.0\n",
       "3  assign_('Stream_4',_'Exchanger_4')     1.0\n",
       "4  assign_('Stream_5',_'Exchanger_2')     1.0\n",
       "5  assign_('Stream_6',_'Exchanger_5')     1.0\n",
       "6  assign_('Stream_7',_'Exchanger_6')     1.0"
      ]
     },
     "execution_count": 14,
     "metadata": {},
     "output_type": "execute_result"
    }
   ],
   "source": [
    "optimal_soln"
   ]
  },
  {
   "cell_type": "code",
   "execution_count": null,
   "metadata": {},
   "outputs": [],
   "source": []
  },
  {
   "cell_type": "code",
   "execution_count": null,
   "metadata": {},
   "outputs": [],
   "source": []
  },
  {
   "cell_type": "code",
   "execution_count": null,
   "metadata": {},
   "outputs": [],
   "source": []
  },
  {
   "cell_type": "code",
   "execution_count": null,
   "metadata": {},
   "outputs": [],
   "source": []
  }
 ],
 "metadata": {
  "kernelspec": {
   "display_name": "Python 3",
   "language": "python",
   "name": "python3"
  },
  "language_info": {
   "codemirror_mode": {
    "name": "ipython",
    "version": 3
   },
   "file_extension": ".py",
   "mimetype": "text/x-python",
   "name": "python",
   "nbconvert_exporter": "python",
   "pygments_lexer": "ipython3",
   "version": "3.8.3"
  }
 },
 "nbformat": 4,
 "nbformat_minor": 4
}
